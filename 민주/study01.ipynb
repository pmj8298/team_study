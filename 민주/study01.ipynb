{
 "cells": [
  {
   "cell_type": "markdown",
   "id": "120d6c9c-d9f4-4371-87a8-7f783780aa79",
   "metadata": {},
   "source": [
    "-입력을 하면 그 단어가 거꾸로 해도 같은 단어인지 확인하는 프로그램을 만드시오"
   ]
  },
  {
   "cell_type": "code",
   "execution_count": 25,
   "id": "19795735-c87b-4d60-9612-50c5dcd85be8",
   "metadata": {},
   "outputs": [
    {
     "name": "stdin",
     "output_type": "stream",
     "text": [
      "단어를 입력하세요 아빠사자\n"
     ]
    },
    {
     "name": "stdout",
     "output_type": "stream",
     "text": [
      "아빠사자\n",
      "자사빠아\n",
      "False\n"
     ]
    }
   ],
   "source": [
    "a = str(input('단어를 입력하세요'))\n",
    "# print(a[1])\n",
    "print(a)\n",
    "print(a[::-1])\n",
    "if a == a[::-1]:\n",
    "    print(True)\n",
    "else:\n",
    "    print(False)"
   ]
  },
  {
   "cell_type": "markdown",
   "id": "7698789f-c357-4497-9507-75ff6cc906a4",
   "metadata": {},
   "source": [
    "-하나의 긴 리스트값을 입력하면 두개의 리스트로 결과가 나오는데 각각 짝수의 값과 홀수의 값이 담기도록 하시오오오"
   ]
  },
  {
   "cell_type": "code",
   "execution_count": 13,
   "id": "7f83c27c-bbf1-46ff-91a6-73008e0d514b",
   "metadata": {},
   "outputs": [
    {
     "name": "stdin",
     "output_type": "stream",
     "text": [
      "숫자를 입력하시오 1 2 3 4 5\n"
     ]
    },
    {
     "name": "stdout",
     "output_type": "stream",
     "text": [
      "짝수: [2, 4]\n",
      "홀수: [1, 3, 5]\n"
     ]
    }
   ],
   "source": [
    "oddli=[]\n",
    "evenli=[]\n",
    "num = input('숫자를 입력하시오')\n",
    "\n",
    "num1 = num.split()\n",
    "# print(num1)\n",
    "\n",
    "# for n in range(len(num1)):\n",
    "for n in num1:\n",
    "# for n in range(int(num)):\n",
    "    if int(n) % 2 == 0:\n",
    "        evenli.append(int(n))\n",
    "        # print(f'짝수: {evenli}')\n",
    "    else:\n",
    "        oddli.append(int(n))\n",
    "        # print(f'홀수: {oddli}')\n",
    "\n",
    "print(f'짝수: {evenli}')\n",
    "print(f'홀수: {oddli}')\n",
    "#     # print(num1)\n",
    "\n",
    "# if num % 2 == 0:\n",
    "#     evenli.append(num)\n",
    "#     print(f'짝수: {evenli}')\n",
    "# else:\n",
    "#     oddli.append(num)\n",
    "#     print(f'홀수: {oddli}')\n",
    "# li.append(num)\n",
    "# print(li)"
   ]
  },
  {
   "cell_type": "markdown",
   "id": "e0aaf8db-3456-4e11-a6e8-3e3de2479957",
   "metadata": {},
   "source": [
    "-하나의 긴 문장을 입력받았을 때 그 문장 중에 가장 긴 단어를 밖으로 출력하세 하세요"
   ]
  },
  {
   "cell_type": "code",
   "execution_count": 33,
   "id": "88009bf9-b571-43dd-bb83-cdfdd317a144",
   "metadata": {},
   "outputs": [
    {
     "name": "stdin",
     "output_type": "stream",
     "text": [
      "문장을 입력하세요:  ddd ddddd dddddd\n"
     ]
    },
    {
     "name": "stdout",
     "output_type": "stream",
     "text": [
      "['ddd', 'ddddd', 'dddddd']\n",
      "3\n",
      "16\n",
      "1\n",
      "d\n"
     ]
    }
   ],
   "source": [
    "sen = input('문장을 입력하세요: ')\n",
    "sen1 = sen.split()\n",
    "print(sen1)\n",
    "print(len(sen1))\n",
    "print(len(sen))\n",
    "\n",
    " # for n in range(len(sen1)):\n",
    " #     if len(n)>len(sen1):\n",
    " #         print()\n",
    " "
   ]
  },
  {
   "cell_type": "code",
   "execution_count": null,
   "id": "03c7a25b-1d94-4d4e-b650-b2ea4ea698da",
   "metadata": {},
   "outputs": [],
   "source": []
  }
 ],
 "metadata": {
  "kernelspec": {
   "display_name": "Python 3 (ipykernel)",
   "language": "python",
   "name": "python3"
  },
  "language_info": {
   "codemirror_mode": {
    "name": "ipython",
    "version": 3
   },
   "file_extension": ".py",
   "mimetype": "text/x-python",
   "name": "python",
   "nbconvert_exporter": "python",
   "pygments_lexer": "ipython3",
   "version": "3.13.1"
  }
 },
 "nbformat": 4,
 "nbformat_minor": 5
}
