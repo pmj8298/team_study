{
 "cells": [
  {
   "cell_type": "markdown",
   "id": "120d6c9c-d9f4-4371-87a8-7f783780aa79",
   "metadata": {},
   "source": [
    "-입력을 하면 그 단어가 거꾸로 해도 같은 단어인지 확인하는 프로그램을 만드시오"
   ]
  },
  {
   "cell_type": "code",
   "execution_count": 25,
   "id": "19795735-c87b-4d60-9612-50c5dcd85be8",
   "metadata": {},
   "outputs": [
    {
     "name": "stdin",
     "output_type": "stream",
     "text": [
      "단어를 입력하세요 아빠사자\n"
     ]
    },
    {
     "name": "stdout",
     "output_type": "stream",
     "text": [
      "아빠사자\n",
      "자사빠아\n",
      "False\n"
     ]
    }
   ],
   "source": [
    "a = str(input('단어를 입력하세요'))\n",
    "# print(a[1])\n",
    "print(a)\n",
    "print(a[::-1])\n",
    "if a == a[::-1]:\n",
    "    print(True)\n",
    "else:\n",
    "    print(False)"
   ]
  },
  {
   "cell_type": "markdown",
   "id": "7698789f-c357-4497-9507-75ff6cc906a4",
   "metadata": {},
   "source": [
    "-하나의 긴 리스트값을 입력하면 두개의 리스트로 결과가 나오는데 각각 짝수의 값과 홀수의 값이 담기도록 하시오오오"
   ]
  },
  {
   "cell_type": "code",
   "execution_count": 13,
   "id": "7f83c27c-bbf1-46ff-91a6-73008e0d514b",
   "metadata": {},
   "outputs": [
    {
     "name": "stdin",
     "output_type": "stream",
     "text": [
      "숫자를 입력하시오 1 2 3 4 5\n"
     ]
    },
    {
     "name": "stdout",
     "output_type": "stream",
     "text": [
      "짝수: [2, 4]\n",
      "홀수: [1, 3, 5]\n"
     ]
    }
   ],
   "source": [
    "oddli=[]\n",
    "evenli=[]\n",
    "num = input('숫자를 입력하시오')\n",
    "\n",
    "num1 = num.split()\n",
    "# print(num1)\n",
    "\n",
    "# for n in range(len(num1)):\n",
    "for n in num1:\n",
    "# for n in range(int(num)):\n",
    "    if int(n) % 2 == 0:\n",
    "        evenli.append(int(n))\n",
    "        # print(f'짝수: {evenli}')\n",
    "    else:\n",
    "        oddli.append(int(n))\n",
    "        # print(f'홀수: {oddli}')\n",
    "\n",
    "print(f'짝수: {evenli}')\n",
    "print(f'홀수: {oddli}')\n",
    "#     # print(num1)\n",
    "\n",
    "# if num % 2 == 0:\n",
    "#     evenli.append(num)\n",
    "#     print(f'짝수: {evenli}')\n",
    "# else:\n",
    "#     oddli.append(num)\n",
    "#     print(f'홀수: {oddli}')\n",
    "# li.append(num)\n",
    "# print(li)"
   ]
  },
  {
   "cell_type": "markdown",
   "id": "e0aaf8db-3456-4e11-a6e8-3e3de2479957",
   "metadata": {},
   "source": [
    "-하나의 긴 문장을 입력받았을 때 그 문장 중에 가장 긴 단어를 밖으로 출력하세 하세요"
   ]
  },
  {
   "cell_type": "code",
   "execution_count": 69,
   "id": "03c7a25b-1d94-4d4e-b650-b2ea4ea698da",
   "metadata": {},
   "outputs": [
    {
     "name": "stdin",
     "output_type": "stream",
     "text": [
      "문장을 입력하세요:  Downloading qrcode-8.0-py3-none-any.whl.metadata\n"
     ]
    },
    {
     "name": "stdout",
     "output_type": "stream",
     "text": [
      "qrcode-8.0-py3-none-any.whl.metadata\n"
     ]
    }
   ],
   "source": [
    "sen = input('문장을 입력하세요: ')\n",
    "sen1 = sen.split()\n",
    "# print(sen)\n",
    "# print(sen1)\n",
    "# print(len(sen))\n",
    "# print(len(sen1[0]))\n",
    "# print(len(sen1[-1]))\n",
    "long = sen1[0]\n",
    "# print(max(sen1))\n",
    "# print(len(max(sen1)))\n",
    "\n",
    "# for n in range(len(sen1)):\n",
    "for n in sen1:\n",
    "    if len(n)>len(long):\n",
    "          long = n\n",
    "    # else:\n",
    "print(long)\n",
    "        \n",
    "# for n in sen1:\n",
    "# # for n in sen1:\n",
    "#     if sen1[n]>sen1[-1]:\n",
    "#           print(sen1[n])\n",
    "#     else:\n",
    "#         print(sen1[-1])"
   ]
  },
  {
   "cell_type": "code",
   "execution_count": 33,
   "id": "eceeb0f1-38fc-4ae7-983d-e678f5715e5f",
   "metadata": {},
   "outputs": [
    {
     "name": "stdin",
     "output_type": "stream",
     "text": [
      "당신의 기분을 한 문장으로 표현하세요 오늘 정말 좋아\n"
     ]
    },
    {
     "name": "stdout",
     "output_type": "stream",
     "text": [
      "['오늘', '정말', '좋아']\n",
      "기분이 좋아보이네요\n"
     ]
    }
   ],
   "source": [
    "sense = input('당신의 기분을 한 문장으로 표현하세요').split()\n",
    "# sense = '행복'\n",
    "positive_words=['좋아','행복','사랑해','멋져','최고야']\n",
    "negative_words=['싫어','화나','짜증나','별로야','나빠']\n",
    "\n",
    "print(sense)\n",
    "\n",
    "for s in sense:\n",
    "    if s in positive_words:\n",
    "        print('기분이 좋아보이네요')\n",
    "    elif s in negative_words:\n",
    "        print('기분이 나빠보이네요')\n",
    "    # else:\n",
    "    #     print('평범한 하루네요')\n",
    "# for s in sense:\n",
    "#     if positive_words in sense:\n",
    "#         print('기분이 좋아보이네요')\n",
    "#     elif negative_words in sense:\n",
    "#         print('기분이 나빠보이네요')\n",
    "#     else:\n",
    "#         print('평범한 하루네요')\n",
    "# if '싫어'and'화나' in sense:\n",
    "#     print('기분이 나빠보이네요')\n",
    "# if '짜증나'and'별로야' in sense:\n",
    "#     print('기분이 나빠보이네요')\n",
    "# if '나빠' in sense:\n",
    "#     print('기분이 나빠보이네요')\n",
    "# elif '싫어'and'화나'and'짜증나'and'별로야'and'나빠' in sense:\n",
    "#     print('기분이 나빠보이네요')\n",
    "# else:\n",
    "#     print('평범한 하루네요')"
   ]
  },
  {
   "cell_type": "code",
   "execution_count": 8,
   "id": "ea09e5a0-829a-4c61-a963-bfe6ec936ec3",
   "metadata": {},
   "outputs": [
    {
     "name": "stdin",
     "output_type": "stream",
     "text": [
      "영어 소문자로 입력하세요:  f\n"
     ]
    },
    {
     "name": "stdout",
     "output_type": "stream",
     "text": [
      "['f']\n"
     ]
    }
   ],
   "source": [
    "# a = input('영어 소문자로 입력하세요: ')\n",
    "# aa = a.split()\n",
    "\n",
    "a = input('영어 소문자로 입력하세요: ').split()\n",
    "print(a)\n",
    "# print(aa)\n",
    "result = []\n",
    "\n",
    "for x in a:\n",
    "    result.append(x[0].upper() + x[1:])\n",
    "    \n",
    "print(result)\n",
    "    \n",
    "# print(a + '.')"
   ]
  },
  {
   "cell_type": "code",
   "execution_count": 7,
   "id": "bbda847c-b276-4557-9591-83ce5af94ea8",
   "metadata": {},
   "outputs": [
    {
     "name": "stdout",
     "output_type": "stream",
     "text": [
      "{'boxOfficeResult': {'boxofficeType': '일별 박스오피스', 'showRange': '20250213~20250213', 'dailyBoxOfficeList': [{'rnum': '1', 'rank': '1', 'rankInten': '0', 'rankOldAndNew': 'OLD', 'movieCd': '20242404', 'movieNm': '캡틴 아메리카: 브레이브 뉴 월드', 'openDt': '2025-02-12', 'salesAmt': '838062130', 'salesShare': '59.2', 'salesInten': '-397126260', 'salesChange': '-32.2', 'salesAcc': '2085442520', 'audiCnt': '84843', 'audiInten': '-38394', 'audiChange': '-31.2', 'audiAcc': '208848', 'scrnCnt': '1774', 'showCnt': '7616'}, {'rnum': '2', 'rank': '2', 'rankInten': '0', 'rankOldAndNew': 'OLD', 'movieCd': '20233006', 'movieNm': '히트맨2', 'openDt': '2025-01-22', 'salesAmt': '126793800', 'salesShare': '9.0', 'salesInten': '-13738200', 'salesChange': '-9.8', 'salesAcc': '22524105540', 'audiCnt': '13812', 'audiInten': '-1251', 'audiChange': '-8.3', 'audiAcc': '2392913', 'scrnCnt': '681', 'showCnt': '1758'}, {'rnum': '3', 'rank': '3', 'rankInten': '0', 'rankOldAndNew': 'OLD', 'movieCd': '20223819', 'movieNm': '말할 수 없는 비밀', 'openDt': '2025-01-27', 'salesAmt': '118908880', 'salesShare': '8.4', 'salesInten': '-9729420', 'salesChange': '-7.6', 'salesAcc': '6047999820', 'audiCnt': '12864', 'audiInten': '-1128', 'audiChange': '-8.1', 'audiAcc': '635824', 'scrnCnt': '643', 'showCnt': '1710'}, {'rnum': '4', 'rank': '4', 'rankInten': '0', 'rankOldAndNew': 'OLD', 'movieCd': '20247450', 'movieNm': '검은 수녀들', 'openDt': '2025-01-24', 'salesAmt': '53884900', 'salesShare': '3.8', 'salesInten': '-202900', 'salesChange': '-0.4', 'salesAcc': '15772443960', 'audiCnt': '5764', 'audiInten': '43', 'audiChange': '0.8', 'audiAcc': '1631836', 'scrnCnt': '558', 'showCnt': '888'}, {'rnum': '5', 'rank': '5', 'rankInten': '1', 'rankOldAndNew': 'OLD', 'movieCd': '20244762', 'movieNm': '서브스턴스', 'openDt': '2024-12-11', 'salesAmt': '41325360', 'salesShare': '2.9', 'salesInten': '292060', 'salesChange': '0.7', 'salesAcc': '4408704040', 'audiCnt': '4319', 'audiInten': '25', 'audiChange': '0.6', 'audiAcc': '452614', 'scrnCnt': '292', 'showCnt': '402'}, {'rnum': '6', 'rank': '6', 'rankInten': '-1', 'rankOldAndNew': 'OLD', 'movieCd': '20251800', 'movieNm': '브루탈리스트', 'openDt': '2025-02-12', 'salesAmt': '30724700', 'salesShare': '2.2', 'salesInten': '-15806300', 'salesChange': '-34', 'salesAcc': '121259700', 'audiCnt': '3299', 'audiInten': '-1654', 'audiChange': '-33.4', 'audiAcc': '11236', 'scrnCnt': '292', 'showCnt': '456'}, {'rnum': '7', 'rank': '7', 'rankInten': '0', 'rankOldAndNew': 'OLD', 'movieCd': '20216476', 'movieNm': '브로큰', 'openDt': '2025-02-05', 'salesAmt': '23367900', 'salesShare': '1.7', 'salesInten': '-4632400', 'salesChange': '-16.5', 'salesAcc': '1713989320', 'audiCnt': '2598', 'audiInten': '-483', 'audiChange': '-15.7', 'audiAcc': '184884', 'scrnCnt': '412', 'showCnt': '603'}, {'rnum': '8', 'rank': '8', 'rankInten': '2', 'rankOldAndNew': 'OLD', 'movieCd': '20246777', 'movieNm': '더 폴: 디렉터스 컷', 'openDt': '2024-12-25', 'salesAmt': '20571100', 'salesShare': '1.5', 'salesInten': '-1114200', 'salesChange': '-5.1', 'salesAcc': '1306630500', 'audiCnt': '2107', 'audiInten': '-138', 'audiChange': '-6.1', 'audiAcc': '126476', 'scrnCnt': '85', 'showCnt': '130'}, {'rnum': '9', 'rank': '9', 'rankInten': '-1', 'rankOldAndNew': 'OLD', 'movieCd': '20126686', 'movieNm': '미드나잇 인 파리', 'openDt': '2012-07-05', 'salesAmt': '14809420', 'salesShare': '1.0', 'salesInten': '-9301380', 'salesChange': '-38.6', 'salesAcc': '2859411137', 'audiCnt': '1676', 'audiInten': '-1103', 'audiChange': '-39.7', 'audiAcc': '386024', 'scrnCnt': '136', 'showCnt': '292'}, {'rnum': '10', 'rank': '10', 'rankInten': '1', 'rankOldAndNew': 'OLD', 'movieCd': '20090683', 'movieNm': '500일의 썸머', 'openDt': '2010-01-21', 'salesAmt': '13783700', 'salesShare': '1.0', 'salesInten': '-1278600', 'salesChange': '-8.5', 'salesAcc': '2402539800', 'audiCnt': '1436', 'audiInten': '-197', 'audiChange': '-12.1', 'audiAcc': '301693', 'scrnCnt': '89', 'showCnt': '185'}]}}\n"
     ]
    }
   ],
   "source": [
    "import requests\n",
    "import json\n",
    "\n",
    "url='http://kobis.or.kr/kobisopenapi/webservice/rest/boxoffice/searchDailyBoxOfficeList.json?key=3e3468b3a00e205420356deb20548cde&targetDt=20250213'\n",
    "res = requests.get(url).text\n",
    "# m_data = requests.get(url).json()\n",
    "data = json.loads(res)\n",
    "# print(data)\n",
    "# mname = \n",
    "# mname = res.find('movieNm')\n",
    "# print(f'mname: {mname}')\n",
    "\n",
    "\n",
    "# print(data)\n",
    "# print(data[0])-에러남\n",
    "# print(data['boxOfficeResult'])-소괄호 벗겨짐\n",
    "# print(data['boxOfficeResult']['dailyBoxOfficeList'])-영화 리스트만 보여짐\n",
    "mrank = data['boxOfficeResult']['dailyBoxOfficeList']\n",
    "# print(mrank)\n",
    "\n",
    "for m in mrank:\n",
    "    print(m['movieNm'])\n"
   ]
  },
  {
   "cell_type": "code",
   "execution_count": null,
   "id": "5c09dadc-a8d9-4157-8ec7-1ffb5151b9e1",
   "metadata": {},
   "outputs": [],
   "source": []
  }
 ],
 "metadata": {
  "kernelspec": {
   "display_name": "Python 3 (ipykernel)",
   "language": "python",
   "name": "python3"
  },
  "language_info": {
   "codemirror_mode": {
    "name": "ipython",
    "version": 3
   },
   "file_extension": ".py",
   "mimetype": "text/x-python",
   "name": "python",
   "nbconvert_exporter": "python",
   "pygments_lexer": "ipython3",
   "version": "3.13.1"
  }
 },
 "nbformat": 4,
 "nbformat_minor": 5
}
