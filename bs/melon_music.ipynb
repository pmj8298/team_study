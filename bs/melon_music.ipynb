{
 "cells": [
  {
   "cell_type": "code",
   "execution_count": 1,
   "id": "133ece3a-8206-4a5c-b18d-c4551521a5b6",
   "metadata": {},
   "outputs": [
    {
     "name": "stdout",
     "output_type": "stream",
     "text": [
      "<Response [200]>\n",
      "1위: REBEL HEART / IVE (아이브)\n",
      "2위: HOME SWEET HOME (feat. 태양, 대성) / G-DRAGON\n",
      "3위: 나는 반딧불 / 황가람\n",
      "4위: Whiplash / aespa\n",
      "5위: APT. / 로제 (ROSÉ)\n",
      "6위: Drowning / Bruno Mars\n",
      "7위: ATTITUDE / WOODZ\n",
      "8위: 오늘만 I LOVE YOU / IVE (아이브)\n",
      "9위: Dash / BOYNEXTDOOR\n",
      "10위: toxic till the end / PLAVE\n",
      "11위: 모르시나요(PROD.로코베리) / 로제 (ROSÉ)\n",
      "12위: POWER / 조째즈\n",
      "13위: RIZZ / G-DRAGON\n",
      "14위: HAPPY / PLAVE\n",
      "15위: Chroma Drift / DAY6 (데이식스)\n",
      "16위: 내게 사랑이 뭐냐고 물어본다면 / PLAVE\n",
      "17위: Island / 로이킴\n",
      "18위: 12:32 (A to T) / PLAVE\n",
      "19위: 사랑은 늘 도망가 / PLAVE\n",
      "20위: DRIP / 임영웅\n",
      " "
     ]
    }
   ],
   "source": [
    "import requests as req\n",
    "from bs4 import BeautifulSoup as bs\n",
    "url = \"https://www.melon.com/chart/index.htm\"\n",
    "headers = {'User-Agent':'Mozilla/5.0 (Windows NT 10.0; Win64; x64) AppleWebKit/537.36 (KHTML, like Gecko) Chrome/133.0.0.0 Safari/537.36 Edg/133.0.0.0'}\n",
    "web = req.get(url, headers = headers)\n",
    "soup = bs(web.content, 'html.parser')\n",
    "print(web)\n",
    "title = soup.select('.rank01')[:20] # 20위까지\n",
    "name = soup.select('.checkEllipsis a')[:20]\n",
    "str = ''\n",
    "for i, (t, n) in enumerate(zip(title, name),1):\n",
    "    str += f'{i}위: {t.text.strip()} / {n.text}\\n' \n",
    "print(str, end=' ')"
   ]
  },
  {
   "cell_type": "code",
   "execution_count": null,
   "id": "12cf2244-1479-46d2-9080-f91f9dddb08d",
   "metadata": {},
   "outputs": [],
   "source": []
  }
 ],
 "metadata": {
  "kernelspec": {
   "display_name": "Python 3 (ipykernel)",
   "language": "python",
   "name": "python3"
  },
  "language_info": {
   "codemirror_mode": {
    "name": "ipython",
    "version": 3
   },
   "file_extension": ".py",
   "mimetype": "text/x-python",
   "name": "python",
   "nbconvert_exporter": "python",
   "pygments_lexer": "ipython3",
   "version": "3.13.1"
  }
 },
 "nbformat": 4,
 "nbformat_minor": 5
}
