{
 "cells": [
  {
   "cell_type": "markdown",
   "id": "852287d6-8065-4694-9195-f16fa0903b4c",
   "metadata": {},
   "source": [
    "<strong>게시판 페이징하기</strong>"
   ]
  },
  {
   "cell_type": "code",
   "execution_count": 1,
   "id": "7a5c1924-ba72-41c6-846e-e6f400aa07a5",
   "metadata": {},
   "outputs": [
    {
     "name": "stdin",
     "output_type": "stream",
     "text": [
      "게시물의 총 개수를 쓰시오 : 55\n",
      "한 페이지에 보여줄 게시물 수를 쓰시오 : 10\n"
     ]
    },
    {
     "name": "stdout",
     "output_type": "stream",
     "text": [
      "총 6페이지\n"
     ]
    }
   ],
   "source": [
    "# p.312\n",
    "# 게시판 페이징하기\n",
    "def get_total_page():\n",
    "    m = int(input(\"게시물의 총 개수를 쓰시오 :\"))\n",
    "    n = int(input(\"한 페이지에 보여줄 게시물 수를 쓰시오 :\"))\n",
    "    if m%n == 0:\n",
    "        paging = m // n\n",
    "    else:\n",
    "        paging = m // n + 1\n",
    "    print(f\"총 {paging}페이지\")\n",
    "get_total_page()"
   ]
  },
  {
   "cell_type": "code",
   "execution_count": null,
   "id": "aefe517e-f490-4633-bd7e-4da22e0a4635",
   "metadata": {},
   "outputs": [],
   "source": []
  }
 ],
 "metadata": {
  "kernelspec": {
   "display_name": "Python 3 (ipykernel)",
   "language": "python",
   "name": "python3"
  },
  "language_info": {
   "codemirror_mode": {
    "name": "ipython",
    "version": 3
   },
   "file_extension": ".py",
   "mimetype": "text/x-python",
   "name": "python",
   "nbconvert_exporter": "python",
   "pygments_lexer": "ipython3",
   "version": "3.13.1"
  }
 },
 "nbformat": 4,
 "nbformat_minor": 5
}
