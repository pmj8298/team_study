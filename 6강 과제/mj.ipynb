{
 "cells": [
  {
   "cell_type": "markdown",
   "id": "819691c0-6af3-45d5-9791-8dc843b7784c",
   "metadata": {},
   "source": [
    "### 3과 5의 배수를 모두 더하기"
   ]
  },
  {
   "cell_type": "code",
   "execution_count": 1,
   "id": "4d837373-5ef9-4a79-af4f-f52e60de6d34",
   "metadata": {},
   "outputs": [
    {
     "name": "stdout",
     "output_type": "stream",
     "text": [
      "233168\n"
     ]
    }
   ],
   "source": [
    "result = 0\n",
    "for i in range(1,1000):\n",
    "    if i % 3 == 0 or i % 5 == 0:\n",
    "        result += i\n",
    "        # print(result)\n",
    "print(result)"
   ]
  },
  {
   "cell_type": "code",
   "execution_count": null,
   "id": "2b7f2778-f1b9-442c-8974-6f2c763d95c0",
   "metadata": {},
   "outputs": [],
   "source": []
  }
 ],
 "metadata": {
  "kernelspec": {
   "display_name": "Python 3 (ipykernel)",
   "language": "python",
   "name": "python3"
  },
  "language_info": {
   "codemirror_mode": {
    "name": "ipython",
    "version": 3
   },
   "file_extension": ".py",
   "mimetype": "text/x-python",
   "name": "python",
   "nbconvert_exporter": "python",
   "pygments_lexer": "ipython3",
   "version": "3.13.1"
  }
 },
 "nbformat": 4,
 "nbformat_minor": 5
}
