{
 "cells": [
  {
   "cell_type": "code",
   "execution_count": 11,
   "id": "d76ae26f-f862-47ba-ba1b-4fdf2a7bf230",
   "metadata": {},
   "outputs": [],
   "source": [
    "# 필요한 모듈? 라이브러리? 불러오기\n",
    "import matplotlib\n",
    "import matplotlib.pyplot as plt\n",
    "import matplotlib.font_manager as fm\n",
    "import pandas as pd\n",
    "from datetime import datetime"
   ]
  },
  {
   "cell_type": "code",
   "execution_count": 2,
   "id": "290ba732-7a52-4610-aa9d-093b96ced5a4",
   "metadata": {},
   "outputs": [],
   "source": [
    "# font 설정 D2Coding\n",
    "d2_path = \"./ref/D2Coding-Ver1.3.2-20180524.ttf\"\n",
    "fm.fontManager.addfont(d2_path)\n",
    "matplotlib.rcParams[\"font.family\"] = \"D2Coding\""
   ]
  },
  {
   "cell_type": "code",
   "execution_count": 12,
   "id": "86473de5-d8b6-473c-8015-26a28032d27e",
   "metadata": {},
   "outputs": [
    {
     "data": {
      "text/html": [
       "<div>\n",
       "<style scoped>\n",
       "    .dataframe tbody tr th:only-of-type {\n",
       "        vertical-align: middle;\n",
       "    }\n",
       "\n",
       "    .dataframe tbody tr th {\n",
       "        vertical-align: top;\n",
       "    }\n",
       "\n",
       "    .dataframe thead th {\n",
       "        text-align: right;\n",
       "    }\n",
       "</style>\n",
       "<table border=\"1\" class=\"dataframe\">\n",
       "  <thead>\n",
       "    <tr style=\"text-align: right;\">\n",
       "      <th></th>\n",
       "      <th>category</th>\n",
       "      <th>date</th>\n",
       "      <th>internet</th>\n",
       "      <th>mobile</th>\n",
       "    </tr>\n",
       "  </thead>\n",
       "  <tbody>\n",
       "    <tr>\n",
       "      <th>0</th>\n",
       "      <td>컴퓨터 및 주변기기</td>\n",
       "      <td>2017.01</td>\n",
       "      <td>288391</td>\n",
       "      <td>133993</td>\n",
       "    </tr>\n",
       "    <tr>\n",
       "      <th>1</th>\n",
       "      <td>컴퓨터 및 주변기기</td>\n",
       "      <td>2017.02</td>\n",
       "      <td>329143</td>\n",
       "      <td>146200</td>\n",
       "    </tr>\n",
       "    <tr>\n",
       "      <th>2</th>\n",
       "      <td>컴퓨터 및 주변기기</td>\n",
       "      <td>2017.03</td>\n",
       "      <td>322089</td>\n",
       "      <td>151262</td>\n",
       "    </tr>\n",
       "    <tr>\n",
       "      <th>3</th>\n",
       "      <td>컴퓨터 및 주변기기</td>\n",
       "      <td>2017.04</td>\n",
       "      <td>251604</td>\n",
       "      <td>116675</td>\n",
       "    </tr>\n",
       "    <tr>\n",
       "      <th>4</th>\n",
       "      <td>컴퓨터 및 주변기기</td>\n",
       "      <td>2017.05</td>\n",
       "      <td>241871</td>\n",
       "      <td>109053</td>\n",
       "    </tr>\n",
       "  </tbody>\n",
       "</table>\n",
       "</div>"
      ],
      "text/plain": [
       "     category     date  internet  mobile\n",
       "0  컴퓨터 및 주변기기  2017.01    288391  133993\n",
       "1  컴퓨터 및 주변기기  2017.02    329143  146200\n",
       "2  컴퓨터 및 주변기기  2017.03    322089  151262\n",
       "3  컴퓨터 및 주변기기  2017.04    251604  116675\n",
       "4  컴퓨터 및 주변기기  2017.05    241871  109053"
      ]
     },
     "execution_count": 12,
     "metadata": {},
     "output_type": "execute_result"
    }
   ],
   "source": [
    "# 데이터 파일 불러오기\n",
    "file_path = \"./ref/온라인쇼핑몰_판매매체별_상품군별거래액_20250227153229.csv\"\n",
    "ori = pd.read_csv(file_path, encoding=\"EUC-KR\")  # 판다스로 file_path 읽어오기\n",
    "ori.columns = [\"category\", \"date\", \"internet\", \"mobile\"]  # 컬럼명 설정\n",
    "ori.head()"
   ]
  },
  {
   "cell_type": "code",
   "execution_count": 13,
   "id": "ffe51415-5df9-40b2-9603-3ad661a4a38a",
   "metadata": {},
   "outputs": [
    {
     "name": "stdout",
     "output_type": "stream",
     "text": [
      "수정전\n",
      "2203       2024.08\n",
      "2204       2024.09\n",
      "2205       2024.10\n",
      "2206    2024.11 p)\n",
      "2207    2024.12 p)\n",
      "Name: date, dtype: object\n",
      "수정전\n",
      "2203    2024.08\n",
      "2204    2024.09\n",
      "2205    2024.10\n",
      "2206    2024.11\n",
      "2207    2024.12\n",
      "Name: date, dtype: object\n"
     ]
    }
   ],
   "source": [
    "# 2024.11 / 2024.12 뒤에 ' p)' 없애기\n",
    "print(\"수정전\")\n",
    "print(ori['date'].tail())\n",
    "ori['date'] = ori['date'].map(lambda x: x.rstrip(' p)'))\n",
    "print(\"수정전\")\n",
    "print(ori['date'].tail())"
   ]
  },
  {
   "cell_type": "code",
   "execution_count": 14,
   "id": "38de0049-1038-4124-b80a-2a16556c5335",
   "metadata": {},
   "outputs": [
    {
     "data": {
      "text/html": [
       "<div>\n",
       "<style scoped>\n",
       "    .dataframe tbody tr th:only-of-type {\n",
       "        vertical-align: middle;\n",
       "    }\n",
       "\n",
       "    .dataframe tbody tr th {\n",
       "        vertical-align: top;\n",
       "    }\n",
       "\n",
       "    .dataframe thead th {\n",
       "        text-align: right;\n",
       "    }\n",
       "</style>\n",
       "<table border=\"1\" class=\"dataframe\">\n",
       "  <thead>\n",
       "    <tr style=\"text-align: right;\">\n",
       "      <th></th>\n",
       "      <th>category</th>\n",
       "      <th>date</th>\n",
       "      <th>internet</th>\n",
       "      <th>mobile</th>\n",
       "    </tr>\n",
       "  </thead>\n",
       "  <tbody>\n",
       "    <tr>\n",
       "      <th>0</th>\n",
       "      <td>컴퓨터 및 주변기기</td>\n",
       "      <td>2017-01-01</td>\n",
       "      <td>288391</td>\n",
       "      <td>133993</td>\n",
       "    </tr>\n",
       "    <tr>\n",
       "      <th>1</th>\n",
       "      <td>컴퓨터 및 주변기기</td>\n",
       "      <td>2017-02-01</td>\n",
       "      <td>329143</td>\n",
       "      <td>146200</td>\n",
       "    </tr>\n",
       "    <tr>\n",
       "      <th>2</th>\n",
       "      <td>컴퓨터 및 주변기기</td>\n",
       "      <td>2017-03-01</td>\n",
       "      <td>322089</td>\n",
       "      <td>151262</td>\n",
       "    </tr>\n",
       "    <tr>\n",
       "      <th>3</th>\n",
       "      <td>컴퓨터 및 주변기기</td>\n",
       "      <td>2017-04-01</td>\n",
       "      <td>251604</td>\n",
       "      <td>116675</td>\n",
       "    </tr>\n",
       "    <tr>\n",
       "      <th>4</th>\n",
       "      <td>컴퓨터 및 주변기기</td>\n",
       "      <td>2017-05-01</td>\n",
       "      <td>241871</td>\n",
       "      <td>109053</td>\n",
       "    </tr>\n",
       "  </tbody>\n",
       "</table>\n",
       "</div>"
      ],
      "text/plain": [
       "     category       date  internet  mobile\n",
       "0  컴퓨터 및 주변기기 2017-01-01    288391  133993\n",
       "1  컴퓨터 및 주변기기 2017-02-01    329143  146200\n",
       "2  컴퓨터 및 주변기기 2017-03-01    322089  151262\n",
       "3  컴퓨터 및 주변기기 2017-04-01    251604  116675\n",
       "4  컴퓨터 및 주변기기 2017-05-01    241871  109053"
      ]
     },
     "execution_count": 14,
     "metadata": {},
     "output_type": "execute_result"
    }
   ],
   "source": [
    "# date 부분 문자열을 날짜형식으로 변환\n",
    "ori['date'] = pd.to_datetime(ori[\"date\"], format = '%Y.%m')\n",
    "ori.dtypes\n",
    "ori.head()"
   ]
  },
  {
   "cell_type": "code",
   "execution_count": 17,
   "id": "6127d03f-9cb8-4142-994f-c94637e54c35",
   "metadata": {},
   "outputs": [
    {
     "data": {
      "text/html": [
       "<div>\n",
       "<style scoped>\n",
       "    .dataframe tbody tr th:only-of-type {\n",
       "        vertical-align: middle;\n",
       "    }\n",
       "\n",
       "    .dataframe tbody tr th {\n",
       "        vertical-align: top;\n",
       "    }\n",
       "\n",
       "    .dataframe thead th {\n",
       "        text-align: right;\n",
       "    }\n",
       "</style>\n",
       "<table border=\"1\" class=\"dataframe\">\n",
       "  <thead>\n",
       "    <tr style=\"text-align: right;\">\n",
       "      <th></th>\n",
       "      <th>category</th>\n",
       "      <th>date</th>\n",
       "      <th>internet</th>\n",
       "      <th>mobile</th>\n",
       "    </tr>\n",
       "  </thead>\n",
       "  <tbody>\n",
       "    <tr>\n",
       "      <th>1983</th>\n",
       "      <td>음식서비스</td>\n",
       "      <td>2022-04-01</td>\n",
       "      <td>43815</td>\n",
       "      <td>2091751</td>\n",
       "    </tr>\n",
       "    <tr>\n",
       "      <th>1967</th>\n",
       "      <td>음식서비스</td>\n",
       "      <td>2020-12-01</td>\n",
       "      <td>87035</td>\n",
       "      <td>2111121</td>\n",
       "    </tr>\n",
       "    <tr>\n",
       "      <th>1937</th>\n",
       "      <td>음식서비스</td>\n",
       "      <td>2018-06-01</td>\n",
       "      <td>38204</td>\n",
       "      <td>374849</td>\n",
       "    </tr>\n",
       "    <tr>\n",
       "      <th>1930</th>\n",
       "      <td>음식서비스</td>\n",
       "      <td>2017-11-01</td>\n",
       "      <td>34430</td>\n",
       "      <td>246210</td>\n",
       "    </tr>\n",
       "    <tr>\n",
       "      <th>1949</th>\n",
       "      <td>음식서비스</td>\n",
       "      <td>2019-06-01</td>\n",
       "      <td>52192</td>\n",
       "      <td>722286</td>\n",
       "    </tr>\n",
       "  </tbody>\n",
       "</table>\n",
       "</div>"
      ],
      "text/plain": [
       "     category       date  internet   mobile\n",
       "1983    음식서비스 2022-04-01     43815  2091751\n",
       "1967    음식서비스 2020-12-01     87035  2111121\n",
       "1937    음식서비스 2018-06-01     38204   374849\n",
       "1930    음식서비스 2017-11-01     34430   246210\n",
       "1949    음식서비스 2019-06-01     52192   722286"
      ]
     },
     "execution_count": 17,
     "metadata": {},
     "output_type": "execute_result"
    }
   ],
   "source": [
    "# ori를 ex1_data에 복사\n",
    "# 이후 obj 카테고리에 있는 것만 추출\n",
    "ex1_data = ori.copy()\n",
    "obj = ['음식서비스']\n",
    "ex1_data = ex1_data[ex1_data['category'].isin(obj)]\n",
    "ex1_data.sample(5)"
   ]
  },
  {
   "cell_type": "code",
   "execution_count": 20,
   "id": "5ba7d98e-6617-4575-8f00-2c26cef0c51e",
   "metadata": {},
   "outputs": [
    {
     "data": {
      "image/png": "[encoded data removed]",
      "text/plain": [
       "<Figure size 1000x500 with 1 Axes>"
      ]
     },
     "metadata": {},
     "output_type": "display_data"
    }
   ],
   "source": [
    "# 그래프 출력\n",
    "fig, ax = plt.subplots(figsize=(10,5))\n",
    "intmob = ['internet', 'mobile']\n",
    "category = intmob\n",
    "for ran in category:\n",
    "    category_data = ex1_data[ex1_data['category'] == obj[0]]\n",
    "    x_data = category_data['date']\n",
    "    y_data = category_data[ran]\n",
    "    ax.scatter(x_data, y_data, s = 20, label = ran)\n",
    "\n",
    "ax.set_xlabel(\"연도\")\n",
    "ax.set_ylabel(\"거래액\")\n",
    "ax.legend(loc=\"best\")\n",
    "plt.show()"
   ]
  },
  {
   "cell_type": "code",
   "execution_count": null,
   "id": "60a22da3-9d77-4a55-8c2d-8f5f480465dc",
   "metadata": {},
   "outputs": [],
   "source": []
  }
 ],
 "metadata": {
  "kernelspec": {
   "display_name": "Python 3 (ipykernel)",
   "language": "python",
   "name": "python3"
  },
  "language_info": {
   "codemirror_mode": {
    "name": "ipython",
    "version": 3
   },
   "file_extension": ".py",
   "mimetype": "text/x-python",
   "name": "python",
   "nbconvert_exporter": "python",
   "pygments_lexer": "ipython3",
   "version": "3.13.1"
  }
 },
 "nbformat": 4,
 "nbformat_minor": 5
}
