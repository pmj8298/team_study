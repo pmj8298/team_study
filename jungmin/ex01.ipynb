{
 "cells": [
  {
   "cell_type": "markdown",
   "id": "f7704856-5091-4fc5-97d1-f9668c7e2ee1",
   "metadata": {},
   "source": [
    "# 깃허브 실습"
   ]
  },
  {
   "cell_type": "markdown",
   "id": "81ce50b3-e812-4eca-8a5a-e67c0930bf31",
   "metadata": {},
   "source": [
    "<strong>입력을 하면 그 단어가 거꾸로해도 같은 언어인지 확인하는 프로그램</strong>"
   ]
  },
  {
   "cell_type": "code",
   "execution_count": 58,
   "id": "bd626367-c558-426e-8abb-54ed09c8685d",
   "metadata": {},
   "outputs": [
    {
     "name": "stdin",
     "output_type": "stream",
     "text": [
      "단어를 입력해주세요 : 여보게저기저게보여\n"
     ]
    },
    {
     "name": "stdout",
     "output_type": "stream",
     "text": [
      "같음\n"
     ]
    }
   ],
   "source": [
    "same = []\n",
    "text = input(\"단어를 입력해주세요 :\")\n",
    "for i in range(len(text)):\n",
    "    if text[i] == text[-(i+1)]:\n",
    "        same.append(\"1\")\n",
    "    else:\n",
    "        same.append(\"0\")\n",
    "\n",
    "if same[i] == \"0\":\n",
    "    print(\"같지않음\")\n",
    "else:\n",
    "    print(\"같음\")"
   ]
  },
  {
   "cell_type": "markdown",
   "id": "b7772cdd-4e8a-467f-b5f1-fba3d2beaf37",
   "metadata": {},
   "source": [
    "<strong>하나의 긴 리스트값을 입력하면 두개의 리스트로 결과가 나오는데,<br>\n",
    "각각 짝수의 값이 담기고 홀수의 값이 담기도록 하는 프로그램</strong>"
   ]
  },
  {
   "cell_type": "code",
   "execution_count": 42,
   "id": "f11e798e-f683-4271-9dfb-4a2607193ea3",
   "metadata": {},
   "outputs": [
    {
     "name": "stdin",
     "output_type": "stream",
     "text": [
      "숫자를 입력해주세요 : 4 2 3 1 5 7 6 8 9 10\n"
     ]
    },
    {
     "name": "stdout",
     "output_type": "stream",
     "text": [
      "['4', '2', '3', '1', '5', '7', '6', '8', '9', '10']\n",
      "짝수 :  ['4', '2', '6', '8', '10']\n",
      "홀수 :  ['3', '1', '5', '7', '9']\n"
     ]
    }
   ],
   "source": [
    "num = []\n",
    "even = []\n",
    "odd = []\n",
    "num = input(\"숫자를 입력해주세요 :\").split()\n",
    "print(num)\n",
    "for j in range(len(num)):\n",
    "    if int(num[j])%2 == 0:\n",
    "        even.append(num[j])\n",
    "    else:\n",
    "        odd.append(num[j])\n",
    "print(\"짝수 : \", even)\n",
    "print(\"홀수 : \", odd)"
   ]
  },
  {
   "cell_type": "markdown",
   "id": "6dd6527a-a1f7-44c0-8957-4a282a9eb03e",
   "metadata": {},
   "source": [
    "<strong>하나의 긴 문장을 입력받았을 때, 그 문장 중에 가장 긴 단어를 밖으로 출력하는 프로그램(긴 글자가 하나 이상 있으면 그 글자 모두)</strong>"
   ]
  },
  {
   "cell_type": "code",
   "execution_count": 73,
   "id": "e38d9fad-cb74-4219-90ea-11e4455425d1",
   "metadata": {},
   "outputs": [
    {
     "name": "stdin",
     "output_type": "stream",
     "text": [
      "문장을 입력하세요 : Life is too short. you need python\n"
     ]
    },
    {
     "name": "stdout",
     "output_type": "stream",
     "text": [
      "['short.', 'python']\n"
     ]
    }
   ],
   "source": [
    "sentence = input(\"문장을 입력하세요 :\")\n",
    "sent = sentence.split()\n",
    "max = [\"\"]\n",
    "for k in range(len(sent)):\n",
    "    if len(sent[k]) > len(max[0]):\n",
    "        max[0] = sent[k]\n",
    "    elif len(sent[k]) == len(max[0]):\n",
    "        max.append(sent[k])\n",
    "print(max)"
   ]
  },
  {
   "cell_type": "markdown",
   "id": "7887dcf9-7f5c-40d6-8ea6-138d725314e9",
   "metadata": {},
   "source": [
    "<strong>입력받은 문장을 분류하는 프로그램</strong>"
   ]
  },
  {
   "cell_type": "code",
   "execution_count": 121,
   "id": "e5822073-f520-4397-a76e-c60dadae3da4",
   "metadata": {},
   "outputs": [
    {
     "name": "stdin",
     "output_type": "stream",
     "text": [
      "당신의 기분을 한 문장으로 표현해주세요 : 오늘 답답하지만 할만해 멋져!!\n"
     ]
    },
    {
     "name": "stdout",
     "output_type": "stream",
     "text": [
      "기분이 좋아보이네요\n"
     ]
    }
   ],
   "source": [
    "emotion = input(\"당신의 기분을 한 문장으로 표현해주세요 :\")\n",
    "positive_words = [\"좋아\", \"행복\", \"멋져\", \"최고\", \"사랑해\"]\n",
    "negative_words = [\"싫어\", \"화나\", \"짜증\", \"별로\", \"나빠\"]\n",
    "summation = 0\n",
    "\n",
    "for m in range(5):\n",
    "    if positive_words[m] in emotion:\n",
    "        summation = 1\n",
    "        break\n",
    "    elif negative_words[m] in emotion:\n",
    "        summation = 2\n",
    "        break\n",
    "    else:\n",
    "        summation = 3\n",
    "\n",
    "if summation == 1:\n",
    "    print(\"기분이 좋아보이네요\")\n",
    "elif summation == 2:\n",
    "    print(\"기분이 나빠보이네요\")\n",
    "else:\n",
    "    print(\"평범한 하루네요\")"
   ]
  },
  {
   "cell_type": "code",
   "execution_count": null,
   "id": "3fc80ab7-6add-4632-9de4-1fcdd7487236",
   "metadata": {},
   "outputs": [],
   "source": []
  }
 ],
 "metadata": {
  "kernelspec": {
   "display_name": "Python 3 (ipykernel)",
   "language": "python",
   "name": "python3"
  },
  "language_info": {
   "codemirror_mode": {
    "name": "ipython",
    "version": 3
   },
   "file_extension": ".py",
   "mimetype": "text/x-python",
   "name": "python",
   "nbconvert_exporter": "python",
   "pygments_lexer": "ipython3",
   "version": "3.13.1"
  }
 },
 "nbformat": 4,
 "nbformat_minor": 5
}
