{
 "cells": [
  {
   "cell_type": "markdown",
   "id": "f7704856-5091-4fc5-97d1-f9668c7e2ee1",
   "metadata": {},
   "source": [
    "# 깃허브 실습"
   ]
  },
  {
   "cell_type": "markdown",
   "id": "81ce50b3-e812-4eca-8a5a-e67c0930bf31",
   "metadata": {},
   "source": [
    "<strong>입력을 하면 그 단어가 거꾸로해도 같은 언어인지 확인하는 프로그램</strong>"
   ]
  },
  {
   "cell_type": "code",
   "execution_count": 43,
   "id": "bd626367-c558-426e-8abb-54ed09c8685d",
   "metadata": {},
   "outputs": [
    {
     "name": "stdin",
     "output_type": "stream",
     "text": [
      "단어를 입력해주세요 : 우영우\n"
     ]
    },
    {
     "name": "stdout",
     "output_type": "stream",
     "text": [
      "같음\n"
     ]
    }
   ],
   "source": [
    "same = []\n",
    "text = input(\"단어를 입력해주세요 :\")\n",
    "for i in range(len(text)):\n",
    "    if text[i] == text[-(i+1)]:\n",
    "        same.append(\"1\")\n",
    "    else:\n",
    "        same.append(\"0\")\n",
    "\n",
    "if same[i] == \"0\":\n",
    "    print(\"같지않음\")\n",
    "else:\n",
    "    print(\"같음\")"
   ]
  },
  {
   "cell_type": "markdown",
   "id": "b7772cdd-4e8a-467f-b5f1-fba3d2beaf37",
   "metadata": {},
   "source": [
    "<strong>하나의 긴 리스트값을 입력하면 두개의 리스트로 결과가 나오는데,<br>\n",
    "각각 짝수의 값이 담기고 홀수의 값이 담기도록 하는 프로그램</strong>"
   ]
  },
  {
   "cell_type": "code",
   "execution_count": 42,
   "id": "f11e798e-f683-4271-9dfb-4a2607193ea3",
   "metadata": {},
   "outputs": [
    {
     "name": "stdin",
     "output_type": "stream",
     "text": [
      "숫자를 입력해주세요 : 4 2 3 1 5 7 6 8 9 10\n"
     ]
    },
    {
     "name": "stdout",
     "output_type": "stream",
     "text": [
      "['4', '2', '3', '1', '5', '7', '6', '8', '9', '10']\n",
      "짝수 :  ['4', '2', '6', '8', '10']\n",
      "홀수 :  ['3', '1', '5', '7', '9']\n"
     ]
    }
   ],
   "source": [
    "num = []\n",
    "even = []\n",
    "odd = []\n",
    "num = input(\"숫자를 입력해주세요 :\").split()\n",
    "print(num)\n",
    "for j in range(len(num)):\n",
    "    if int(num[j])%2 == 0:\n",
    "        even.append(num[j])\n",
    "    else:\n",
    "        odd.append(num[j])\n",
    "print(\"짝수 : \", even)\n",
    "print(\"홀수 : \", odd)"
   ]
  },
  {
   "cell_type": "code",
   "execution_count": null,
   "id": "e1fecd65-1d71-46a6-bbd4-dbfd2418f3c8",
   "metadata": {},
   "outputs": [],
   "source": []
  }
 ],
 "metadata": {
  "kernelspec": {
   "display_name": "Python 3 (ipykernel)",
   "language": "python",
   "name": "python3"
  },
  "language_info": {
   "codemirror_mode": {
    "name": "ipython",
    "version": 3
   },
   "file_extension": ".py",
   "mimetype": "text/x-python",
   "name": "python",
   "nbconvert_exporter": "python",
   "pygments_lexer": "ipython3",
   "version": "3.13.1"
  }
 },
 "nbformat": 4,
 "nbformat_minor": 5
}
