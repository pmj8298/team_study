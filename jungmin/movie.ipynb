{
 "cells": [
  {
   "cell_type": "markdown",
   "id": "6c3204bf-a4a0-45ce-bd5f-3483889a8578",
   "metadata": {},
   "source": [
    "<strong>영화 순위</strong>"
   ]
  },
  {
   "cell_type": "code",
   "execution_count": null,
   "id": "6a0a2470-a791-4c54-847a-091635693ef1",
   "metadata": {},
   "outputs": [],
   "source": [
    "import os\n",
    "import requests\n",
    "from dotenv import load_dotenv\n",
    "\n",
    "def search():\n",
    "    load_dotenv()\n",
    "    key = os.environ.get(\"MOVIE_ID\")\n",
    "    targetDt = '20250201'\n",
    "    weekGb = 1\n",
    "    url = f\"https://kobis.or.kr/kobisopenapi/webservice/rest/boxoffice/searchWeeklyBoxOfficeList.json?key={key}&targetDt={targetDt}&weekGb={weekGb}\"\n",
    "    response = requests.get(url)\n",
    "    if response.status_code == 200:\n",
    "        r_data = response.json()\n",
    "        box_office_list = r_data.get('boxOfficeResult', {}).get('weeklyBoxOfficeList', [])\n",
    "        for movie in box_office_list:\n",
    "            rank = movie.get('rank', 'N/A')\n",
    "            name = movie.get('movieNm', 'N/A')\n",
    "            print(f\"순위: {rank}, 영화명: {name}\")\n",
    "    else:\n",
    "        print(f\"Error: 응답 코드 {response.status_code}\")"
   ]
  }
 ],
 "metadata": {
  "kernelspec": {
   "display_name": "Python 3 (ipykernel)",
   "language": "python",
   "name": "python3"
  },
  "language_info": {
   "codemirror_mode": {
    "name": "ipython",
    "version": 3
   },
   "file_extension": ".py",
   "mimetype": "text/x-python",
   "name": "python",
   "nbconvert_exporter": "python",
   "pygments_lexer": "ipython3",
   "version": "3.13.1"
  }
 },
 "nbformat": 4,
 "nbformat_minor": 5
}
