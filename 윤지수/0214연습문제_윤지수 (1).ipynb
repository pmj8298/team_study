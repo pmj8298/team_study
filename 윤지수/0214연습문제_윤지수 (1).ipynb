{
 "cells": [
  {
   "cell_type": "code",
   "execution_count": 31,
   "id": "6f394e6a-52fa-4217-b854-a30e3fe09443",
   "metadata": {},
   "outputs": [
    {
     "name": "stdin",
     "output_type": "stream",
     "text": [
      "단어를 입력하세요. 우영우\n"
     ]
    },
    {
     "name": "stdout",
     "output_type": "stream",
     "text": [
      "우영우\n",
      "True\n"
     ]
    }
   ],
   "source": [
    "# p1) 단어 거꾸로 문제\n",
    "words = input(\"단어를 입력하세요.\")\n",
    "print(words)\n",
    "if words == words[::-1]:\n",
    "    print(True)\n",
    "else:\n",
    "    print(False)"
   ]
  },
  {
   "cell_type": "code",
   "execution_count": 32,
   "id": "82717d0e-fe13-45ec-ab29-7a5b8e61d57d",
   "metadata": {},
   "outputs": [
    {
     "name": "stdin",
     "output_type": "stream",
     "text": [
      "숫자를 입력해주세요 :  1,2,3,4\n"
     ]
    },
    {
     "name": "stdout",
     "output_type": "stream",
     "text": [
      "[1, 2, 3, 4]\n",
      "홀수 : [1, 3]\n",
      "짝수 : [2, 4]\n"
     ]
    }
   ],
   "source": [
    "# p2) 리스트값 입력, 홀수랑 짝수 값 출력\n",
    "numbers = list(map(int, input(\"숫자를 입력해주세요 : \").split(\",\")))\n",
    "odd = [i for i in numbers if i % 2 == 1]\n",
    "even = [y for y in numbers if y % 2 == 0]\n",
    "print(numbers)\n",
    "print(\"홀수 :\", odd)\n",
    "print(\"짝수 :\", even)"
   ]
  },
  {
   "cell_type": "code",
   "execution_count": 30,
   "id": "3711dd2c-8149-4f88-a39d-e2ed34155c99",
   "metadata": {},
   "outputs": [
    {
     "name": "stdin",
     "output_type": "stream",
     "text": [
      "문장을 입력해주세요. 하나 두울 세엣 넷\n"
     ]
    },
    {
     "name": "stdout",
     "output_type": "stream",
     "text": [
      "['하나', '두울', '세엣', '넷'] 가장 긴 단어: 하나\n"
     ]
    }
   ],
   "source": [
    "# p3) 문장 중 가장 긴 단어 출력 - 아직 다 안 품\n",
    "sen = list(input(\"문장을 입력해주세요.\").split())\n",
    "print(sen, '가장 긴 단어:', max(sen))"
   ]
  },
  {
   "cell_type": "code",
   "execution_count": 38,
   "id": "0869bd39-7494-4b7f-b3e4-1a1a4280b8a7",
   "metadata": {},
   "outputs": [
    {
     "name": "stdin",
     "output_type": "stream",
     "text": [
      "당신의 기분을 한 문장으로 설명해주세요. 행복 좋아\n"
     ]
    },
    {
     "name": "stdout",
     "output_type": "stream",
     "text": [
      "행복 좋아\n",
      "평범한 하루네요.😐🎵\n"
     ]
    }
   ],
   "source": [
    "# p4) 입력 받은 문장 분류 - 아직 다 안 품\n",
    "me = input(\"당신의 기분을 한 문장으로 설명해주세요.\")\n",
    "\n",
    "positive_words = [\"좋아\",\"행복\",\"멋져\",\"최고\",\"사랑해\"]\n",
    "negative_words = [\"싫어\",\"화나\",\"짜증\",\"별로\",\"나빠\"]\n",
    "\n",
    "print(me)\n",
    "if me in positive_words:\n",
    "    print(\"기분이 좋아보이네요.😊❤️\")\n",
    "elif me in negative_words:\n",
    "    print(\"기분이 나빠보이네요.😒☠️\")\n",
    "else:\n",
    "    print(\"평범한 하루네요.😐🎵\")"
   ]
  },
  {
   "cell_type": "code",
   "execution_count": 51,
   "id": "779d5924-6af3-46df-a557-7f8b6001153f",
   "metadata": {},
   "outputs": [
    {
     "name": "stdin",
     "output_type": "stream",
     "text": [
      "영어 소문자로 문장을 쓰세요. hi hello\n"
     ]
    },
    {
     "ename": "AttributeError",
     "evalue": "'list' object has no attribute 'capitalize'",
     "output_type": "error",
     "traceback": [
      "\u001b[1;31m---------------------------------------------------------------------------\u001b[0m",
      "\u001b[1;31mAttributeError\u001b[0m                            Traceback (most recent call last)",
      "Cell \u001b[1;32mIn[51], line 3\u001b[0m\n\u001b[0;32m      1\u001b[0m \u001b[38;5;66;03m# p5) 영어 소문자 문장 맨 첫글자만 대문자로 변경 & 문장 마지막에 마침표 찍기 - 아직 다 안 품\u001b[39;00m\n\u001b[0;32m      2\u001b[0m sen \u001b[38;5;241m=\u001b[39m \u001b[38;5;28mlist\u001b[39m(\u001b[38;5;28minput\u001b[39m(\u001b[38;5;124m\"\u001b[39m\u001b[38;5;124m영어 소문자로 문장을 쓰세요.\u001b[39m\u001b[38;5;124m\"\u001b[39m)\u001b[38;5;241m.\u001b[39msplit())\n\u001b[1;32m----> 3\u001b[0m up_sen \u001b[38;5;241m=\u001b[39m \u001b[43msen\u001b[49m\u001b[38;5;241;43m.\u001b[39;49m\u001b[43mcapitalize\u001b[49m()\n\u001b[0;32m      4\u001b[0m \u001b[38;5;28mprint\u001b[39m(up_sen , \u001b[38;5;124m'\u001b[39m\u001b[38;5;124m.\u001b[39m\u001b[38;5;124m'\u001b[39m)\n",
      "\u001b[1;31mAttributeError\u001b[0m: 'list' object has no attribute 'capitalize'"
     ]
    }
   ],
   "source": [
    "# p5) 영어 소문자 문장 맨 첫글자만 대문자로 변경 & 문장 마지막에 마침표 찍기 - 아직 다 안 품\n",
    "sen = list(input(\"영어 소문자로 문장을 쓰세요.\").split())\n",
    "up_sen = sen.capitalize()\n",
    "print(up_sen , '.')"
   ]
  },
  {
   "cell_type": "code",
   "execution_count": null,
   "id": "372ac4c4-3605-4e12-89a6-3cab2557c86f",
   "metadata": {},
   "outputs": [],
   "source": []
  }
 ],
 "metadata": {
  "kernelspec": {
   "display_name": "Python 3 (ipykernel)",
   "language": "python",
   "name": "python3"
  },
  "language_info": {
   "codemirror_mode": {
    "name": "ipython",
    "version": 3
   },
   "file_extension": ".py",
   "mimetype": "text/x-python",
   "name": "python",
   "nbconvert_exporter": "python",
   "pygments_lexer": "ipython3",
   "version": "3.13.1"
  }
 },
 "nbformat": 4,
 "nbformat_minor": 5
}
