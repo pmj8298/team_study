{
 "cells": [
  {
   "cell_type": "code",
   "execution_count": 26,
   "id": "6f394e6a-52fa-4217-b854-a30e3fe09443",
   "metadata": {},
   "outputs": [
    {
     "name": "stdin",
     "output_type": "stream",
     "text": [
      "단어를 입력하세요. 우영우\n"
     ]
    },
    {
     "name": "stdout",
     "output_type": "stream",
     "text": [
      "True\n"
     ]
    }
   ],
   "source": [
    "# p1) 단어 거꾸로 문제\n",
    "words = input(\"단어를 입력하세요.\")\n",
    "if words == words[::-1]:\n",
    "    print(True)\n",
    "else:\n",
    "    print(False)"
   ]
  },
  {
   "cell_type": "code",
   "execution_count": 12,
   "id": "82717d0e-fe13-45ec-ab29-7a5b8e61d57d",
   "metadata": {},
   "outputs": [
    {
     "name": "stdin",
     "output_type": "stream",
     "text": [
      "숫자를 입력해주세요 :  1,2,3,4\n"
     ]
    },
    {
     "name": "stdout",
     "output_type": "stream",
     "text": [
      "홀수 : [1, 3]\n",
      "짝수 : [2, 4]\n"
     ]
    }
   ],
   "source": [
    "# p2) 리스트값 입력, 홀수랑 짝수 값 출력\n",
    "numbers = list(map(int, input(\"숫자를 입력해주세요 : \").split(\",\")))\n",
    "odd = [i for i in numbers if i % 2 == 1]\n",
    "even = [y for y in numbers if y % 2 == 0]\n",
    "print(\"홀수 :\", odd)\n",
    "print(\"짝수 :\", even)"
   ]
  },
  {
   "cell_type": "code",
   "execution_count": 13,
   "id": "3711dd2c-8149-4f88-a39d-e2ed34155c99",
   "metadata": {},
   "outputs": [],
   "source": [
    "# p3) 문장 중 가장 긴 단어 출력\n",
    "sen = list(input(\"문장을 입력해주세요.\").split())\n",
    "max\n",
    "len(sen)"
   ]
  },
  {
   "cell_type": "code",
   "execution_count": 24,
   "id": "0869bd39-7494-4b7f-b3e4-1a1a4280b8a7",
   "metadata": {},
   "outputs": [
    {
     "name": "stdin",
     "output_type": "stream",
     "text": [
      "당신의 기분을 한 문장으로 설명해주세요. 좋아 행복\n"
     ]
    },
    {
     "name": "stdout",
     "output_type": "stream",
     "text": [
      "평범한 하루네요.😐🎵\n"
     ]
    }
   ],
   "source": [
    "# p4) 입력 받은 문장 분류\n",
    "me = input(\"당신의 기분을 한 문장으로 설명해주세요.\")\n",
    "\n",
    "positive_words = [\"좋아\",\"행복\",\"멋져\",\"최고\",\"사랑해\"]\n",
    "negative_words = [\"싫어\",\"화나\",\"짜증\",\"별로\",\"나빠\"]\n",
    "\n",
    "if me in positive_words:\n",
    "    print(\"기분이 좋아보이네요.😊❤️\")\n",
    "elif me in negative_words:\n",
    "    print(\"기분이 나빠보이네요.😒☠️\")\n",
    "else:\n",
    "    print(\"평범한 하루네요.😐🎵\")"
   ]
  }
 ],
 "metadata": {
  "kernelspec": {
   "display_name": "Python 3 (ipykernel)",
   "language": "python",
   "name": "python3"
  },
  "language_info": {
   "codemirror_mode": {
    "name": "ipython",
    "version": 3
   },
   "file_extension": ".py",
   "mimetype": "text/x-python",
   "name": "python",
   "nbconvert_exporter": "python",
   "pygments_lexer": "ipython3",
   "version": "3.13.1"
  }
 },
 "nbformat": 4,
 "nbformat_minor": 5
}
